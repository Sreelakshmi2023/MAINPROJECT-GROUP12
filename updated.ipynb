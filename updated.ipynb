{
  "cells": [
    {
      "cell_type": "markdown",
      "metadata": {
        "id": "view-in-github",
        "colab_type": "text"
      },
      "source": [
        "<a href=\"https://colab.research.google.com/github/Sreelakshmi2023/MAINPROJECT-GROUP12/blob/main/updated.ipynb\" target=\"_parent\"><img src=\"https://colab.research.google.com/assets/colab-badge.svg\" alt=\"Open In Colab\"/></a>"
      ]
    },
    {
      "cell_type": "code",
      "execution_count": null,
      "metadata": {
        "id": "0FzOQTkoVfb0"
      },
      "outputs": [],
      "source": [
        "#import dependencies\n",
        "\n",
        "import pandas as pd\n",
        "import tensorflow as tf\n",
        "from tensorflow.keras.models import Sequential\n",
        "from tensorflow.keras.layers import Conv1D, MaxPooling1D, LSTM, Dense, Embedding\n",
        "from tensorflow.keras.preprocessing.text import Tokenizer\n",
        "from tensorflow.keras.preprocessing.sequence import pad_sequences\n",
        "from sklearn.model_selection import train_test_split\n",
        "from sklearn.preprocessing import LabelEncoder\n",
        "from sklearn.metrics import accuracy_score, precision_score, recall_score, f1_score, confusion_matrix"
      ]
    },
    {
      "cell_type": "code",
      "execution_count": null,
      "metadata": {
        "colab": {
          "base_uri": "https://localhost:8080/"
        },
        "id": "rTf0Or6MNqRN",
        "outputId": "011d876f-c4ee-4dda-f5be-07e3ec613d42"
      },
      "outputs": [
        {
          "output_type": "stream",
          "name": "stdout",
          "text": [
            "Collecting keras-tcn\n",
            "  Downloading keras_tcn-3.5.0-py3-none-any.whl (13 kB)\n",
            "Requirement already satisfied: numpy in /usr/local/lib/python3.10/dist-packages (from keras-tcn) (1.25.2)\n",
            "Requirement already satisfied: tensorflow in /usr/local/lib/python3.10/dist-packages (from keras-tcn) (2.15.0)\n",
            "Collecting tensorflow-addons (from keras-tcn)\n",
            "  Downloading tensorflow_addons-0.23.0-cp310-cp310-manylinux_2_17_x86_64.manylinux2014_x86_64.whl (611 kB)\n",
            "\u001b[2K     \u001b[90m━━━━━━━━━━━━━━━━━━━━━━━━━━━━━━━━━━━━━━━━\u001b[0m \u001b[32m611.8/611.8 kB\u001b[0m \u001b[31m12.6 MB/s\u001b[0m eta \u001b[36m0:00:00\u001b[0m\n",
            "\u001b[?25hRequirement already satisfied: absl-py>=1.0.0 in /usr/local/lib/python3.10/dist-packages (from tensorflow->keras-tcn) (1.4.0)\n",
            "Requirement already satisfied: astunparse>=1.6.0 in /usr/local/lib/python3.10/dist-packages (from tensorflow->keras-tcn) (1.6.3)\n",
            "Requirement already satisfied: flatbuffers>=23.5.26 in /usr/local/lib/python3.10/dist-packages (from tensorflow->keras-tcn) (24.3.6)\n",
            "Requirement already satisfied: gast!=0.5.0,!=0.5.1,!=0.5.2,>=0.2.1 in /usr/local/lib/python3.10/dist-packages (from tensorflow->keras-tcn) (0.5.4)\n",
            "Requirement already satisfied: google-pasta>=0.1.1 in /usr/local/lib/python3.10/dist-packages (from tensorflow->keras-tcn) (0.2.0)\n",
            "Requirement already satisfied: h5py>=2.9.0 in /usr/local/lib/python3.10/dist-packages (from tensorflow->keras-tcn) (3.9.0)\n",
            "Requirement already satisfied: libclang>=13.0.0 in /usr/local/lib/python3.10/dist-packages (from tensorflow->keras-tcn) (16.0.6)\n",
            "Requirement already satisfied: ml-dtypes~=0.2.0 in /usr/local/lib/python3.10/dist-packages (from tensorflow->keras-tcn) (0.2.0)\n",
            "Requirement already satisfied: opt-einsum>=2.3.2 in /usr/local/lib/python3.10/dist-packages (from tensorflow->keras-tcn) (3.3.0)\n",
            "Requirement already satisfied: packaging in /usr/local/lib/python3.10/dist-packages (from tensorflow->keras-tcn) (23.2)\n",
            "Requirement already satisfied: protobuf!=4.21.0,!=4.21.1,!=4.21.2,!=4.21.3,!=4.21.4,!=4.21.5,<5.0.0dev,>=3.20.3 in /usr/local/lib/python3.10/dist-packages (from tensorflow->keras-tcn) (3.20.3)\n",
            "Requirement already satisfied: setuptools in /usr/local/lib/python3.10/dist-packages (from tensorflow->keras-tcn) (67.7.2)\n",
            "Requirement already satisfied: six>=1.12.0 in /usr/local/lib/python3.10/dist-packages (from tensorflow->keras-tcn) (1.16.0)\n",
            "Requirement already satisfied: termcolor>=1.1.0 in /usr/local/lib/python3.10/dist-packages (from tensorflow->keras-tcn) (2.4.0)\n",
            "Requirement already satisfied: typing-extensions>=3.6.6 in /usr/local/lib/python3.10/dist-packages (from tensorflow->keras-tcn) (4.10.0)\n",
            "Requirement already satisfied: wrapt<1.15,>=1.11.0 in /usr/local/lib/python3.10/dist-packages (from tensorflow->keras-tcn) (1.14.1)\n",
            "Requirement already satisfied: tensorflow-io-gcs-filesystem>=0.23.1 in /usr/local/lib/python3.10/dist-packages (from tensorflow->keras-tcn) (0.36.0)\n",
            "Requirement already satisfied: grpcio<2.0,>=1.24.3 in /usr/local/lib/python3.10/dist-packages (from tensorflow->keras-tcn) (1.62.0)\n",
            "Requirement already satisfied: tensorboard<2.16,>=2.15 in /usr/local/lib/python3.10/dist-packages (from tensorflow->keras-tcn) (2.15.2)\n",
            "Requirement already satisfied: tensorflow-estimator<2.16,>=2.15.0 in /usr/local/lib/python3.10/dist-packages (from tensorflow->keras-tcn) (2.15.0)\n",
            "Requirement already satisfied: keras<2.16,>=2.15.0 in /usr/local/lib/python3.10/dist-packages (from tensorflow->keras-tcn) (2.15.0)\n",
            "Collecting typeguard<3.0.0,>=2.7 (from tensorflow-addons->keras-tcn)\n",
            "  Downloading typeguard-2.13.3-py3-none-any.whl (17 kB)\n",
            "Requirement already satisfied: wheel<1.0,>=0.23.0 in /usr/local/lib/python3.10/dist-packages (from astunparse>=1.6.0->tensorflow->keras-tcn) (0.42.0)\n",
            "Requirement already satisfied: google-auth<3,>=1.6.3 in /usr/local/lib/python3.10/dist-packages (from tensorboard<2.16,>=2.15->tensorflow->keras-tcn) (2.27.0)\n",
            "Requirement already satisfied: google-auth-oauthlib<2,>=0.5 in /usr/local/lib/python3.10/dist-packages (from tensorboard<2.16,>=2.15->tensorflow->keras-tcn) (1.2.0)\n",
            "Requirement already satisfied: markdown>=2.6.8 in /usr/local/lib/python3.10/dist-packages (from tensorboard<2.16,>=2.15->tensorflow->keras-tcn) (3.5.2)\n",
            "Requirement already satisfied: requests<3,>=2.21.0 in /usr/local/lib/python3.10/dist-packages (from tensorboard<2.16,>=2.15->tensorflow->keras-tcn) (2.31.0)\n",
            "Requirement already satisfied: tensorboard-data-server<0.8.0,>=0.7.0 in /usr/local/lib/python3.10/dist-packages (from tensorboard<2.16,>=2.15->tensorflow->keras-tcn) (0.7.2)\n",
            "Requirement already satisfied: werkzeug>=1.0.1 in /usr/local/lib/python3.10/dist-packages (from tensorboard<2.16,>=2.15->tensorflow->keras-tcn) (3.0.1)\n",
            "Requirement already satisfied: cachetools<6.0,>=2.0.0 in /usr/local/lib/python3.10/dist-packages (from google-auth<3,>=1.6.3->tensorboard<2.16,>=2.15->tensorflow->keras-tcn) (5.3.3)\n",
            "Requirement already satisfied: pyasn1-modules>=0.2.1 in /usr/local/lib/python3.10/dist-packages (from google-auth<3,>=1.6.3->tensorboard<2.16,>=2.15->tensorflow->keras-tcn) (0.3.0)\n",
            "Requirement already satisfied: rsa<5,>=3.1.4 in /usr/local/lib/python3.10/dist-packages (from google-auth<3,>=1.6.3->tensorboard<2.16,>=2.15->tensorflow->keras-tcn) (4.9)\n",
            "Requirement already satisfied: requests-oauthlib>=0.7.0 in /usr/local/lib/python3.10/dist-packages (from google-auth-oauthlib<2,>=0.5->tensorboard<2.16,>=2.15->tensorflow->keras-tcn) (1.3.1)\n",
            "Requirement already satisfied: charset-normalizer<4,>=2 in /usr/local/lib/python3.10/dist-packages (from requests<3,>=2.21.0->tensorboard<2.16,>=2.15->tensorflow->keras-tcn) (3.3.2)\n",
            "Requirement already satisfied: idna<4,>=2.5 in /usr/local/lib/python3.10/dist-packages (from requests<3,>=2.21.0->tensorboard<2.16,>=2.15->tensorflow->keras-tcn) (3.6)\n",
            "Requirement already satisfied: urllib3<3,>=1.21.1 in /usr/local/lib/python3.10/dist-packages (from requests<3,>=2.21.0->tensorboard<2.16,>=2.15->tensorflow->keras-tcn) (2.0.7)\n",
            "Requirement already satisfied: certifi>=2017.4.17 in /usr/local/lib/python3.10/dist-packages (from requests<3,>=2.21.0->tensorboard<2.16,>=2.15->tensorflow->keras-tcn) (2024.2.2)\n",
            "Requirement already satisfied: MarkupSafe>=2.1.1 in /usr/local/lib/python3.10/dist-packages (from werkzeug>=1.0.1->tensorboard<2.16,>=2.15->tensorflow->keras-tcn) (2.1.5)\n",
            "Requirement already satisfied: pyasn1<0.6.0,>=0.4.6 in /usr/local/lib/python3.10/dist-packages (from pyasn1-modules>=0.2.1->google-auth<3,>=1.6.3->tensorboard<2.16,>=2.15->tensorflow->keras-tcn) (0.5.1)\n",
            "Requirement already satisfied: oauthlib>=3.0.0 in /usr/local/lib/python3.10/dist-packages (from requests-oauthlib>=0.7.0->google-auth-oauthlib<2,>=0.5->tensorboard<2.16,>=2.15->tensorflow->keras-tcn) (3.2.2)\n",
            "Installing collected packages: typeguard, tensorflow-addons, keras-tcn\n",
            "Successfully installed keras-tcn-3.5.0 tensorflow-addons-0.23.0 typeguard-2.13.3\n"
          ]
        }
      ],
      "source": [
        "!pip install keras-tcn"
      ]
    },
    {
      "cell_type": "code",
      "execution_count": null,
      "metadata": {
        "id": "9i9OZkMyN-lj"
      },
      "outputs": [],
      "source": [
        "from tcn import TCN"
      ]
    },
    {
      "cell_type": "code",
      "execution_count": null,
      "metadata": {
        "colab": {
          "base_uri": "https://localhost:8080/"
        },
        "id": "v556nbGlQ5A3",
        "outputId": "8464e535-f372-4a76-c829-c6533308085a"
      },
      "outputs": [
        {
          "output_type": "stream",
          "name": "stdout",
          "text": [
            "Requirement already satisfied: chardet in /usr/local/lib/python3.10/dist-packages (5.2.0)\n"
          ]
        }
      ],
      "source": [
        "!pip install chardet"
      ]
    },
    {
      "cell_type": "code",
      "execution_count": null,
      "metadata": {
        "id": "t7wUrNO3Q-V3"
      },
      "outputs": [],
      "source": [
        "import chardet"
      ]
    },
    {
      "cell_type": "code",
      "execution_count": null,
      "metadata": {
        "id": "g3ezzJ8jQ_LN"
      },
      "outputs": [],
      "source": [
        "with open(\"datasetupdated.csv\", \"rb\") as f:\n",
        "    encoding = chardet.detect(f.read())[\"encoding\"]"
      ]
    },
    {
      "cell_type": "code",
      "execution_count": null,
      "metadata": {
        "id": "bLowpHDLT133"
      },
      "outputs": [],
      "source": [
        "data = pd.read_csv(\"datasetupdated.csv\", encoding=encoding)"
      ]
    },
    {
      "cell_type": "code",
      "execution_count": null,
      "metadata": {
        "id": "oOIQKwHaT48j"
      },
      "outputs": [],
      "source": [
        "with open(\"datasetupdated.csv\", \"rb\") as f:\n",
        "    for line in f:\n",
        "        print(line.decode(\"utf-8\", errors=\"ignore\"))"
      ]
    },
    {
      "cell_type": "code",
      "execution_count": null,
      "metadata": {
        "id": "FoEmtXXtXUYP"
      },
      "outputs": [],
      "source": [
        "#load the dataset\n",
        "\n",
        "df = pd.read_csv(\"datasetupdated.csv\", encoding=encoding)"
      ]
    },
    {
      "cell_type": "code",
      "source": [
        "df.head()"
      ],
      "metadata": {
        "colab": {
          "base_uri": "https://localhost:8080/",
          "height": 206
        },
        "id": "p8-lKpOCz0iU",
        "outputId": "3b5356ed-e9db-4de2-c1e8-5023960e6c54"
      },
      "execution_count": null,
      "outputs": [
        {
          "output_type": "execute_result",
          "data": {
            "text/plain": [
              "                                                 url       type\n",
              "0                                   br-icloud.com.br  malicious\n",
              "1                mp3raid.com/music/krizz_kaliko.html     benign\n",
              "2                    bopsecrets.org/rexroth/cr/1.htm     benign\n",
              "3  http://www.garage-pirenne.be/index.php?option=...  malicious\n",
              "4  http://adventure-nicaragua.net/index.php?optio...  malicious"
            ],
            "text/html": [
              "\n",
              "  <div id=\"df-b575a105-07ba-4f69-9b48-8afddec1b842\" class=\"colab-df-container\">\n",
              "    <div>\n",
              "<style scoped>\n",
              "    .dataframe tbody tr th:only-of-type {\n",
              "        vertical-align: middle;\n",
              "    }\n",
              "\n",
              "    .dataframe tbody tr th {\n",
              "        vertical-align: top;\n",
              "    }\n",
              "\n",
              "    .dataframe thead th {\n",
              "        text-align: right;\n",
              "    }\n",
              "</style>\n",
              "<table border=\"1\" class=\"dataframe\">\n",
              "  <thead>\n",
              "    <tr style=\"text-align: right;\">\n",
              "      <th></th>\n",
              "      <th>url</th>\n",
              "      <th>type</th>\n",
              "    </tr>\n",
              "  </thead>\n",
              "  <tbody>\n",
              "    <tr>\n",
              "      <th>0</th>\n",
              "      <td>br-icloud.com.br</td>\n",
              "      <td>malicious</td>\n",
              "    </tr>\n",
              "    <tr>\n",
              "      <th>1</th>\n",
              "      <td>mp3raid.com/music/krizz_kaliko.html</td>\n",
              "      <td>benign</td>\n",
              "    </tr>\n",
              "    <tr>\n",
              "      <th>2</th>\n",
              "      <td>bopsecrets.org/rexroth/cr/1.htm</td>\n",
              "      <td>benign</td>\n",
              "    </tr>\n",
              "    <tr>\n",
              "      <th>3</th>\n",
              "      <td>http://www.garage-pirenne.be/index.php?option=...</td>\n",
              "      <td>malicious</td>\n",
              "    </tr>\n",
              "    <tr>\n",
              "      <th>4</th>\n",
              "      <td>http://adventure-nicaragua.net/index.php?optio...</td>\n",
              "      <td>malicious</td>\n",
              "    </tr>\n",
              "  </tbody>\n",
              "</table>\n",
              "</div>\n",
              "    <div class=\"colab-df-buttons\">\n",
              "\n",
              "  <div class=\"colab-df-container\">\n",
              "    <button class=\"colab-df-convert\" onclick=\"convertToInteractive('df-b575a105-07ba-4f69-9b48-8afddec1b842')\"\n",
              "            title=\"Convert this dataframe to an interactive table.\"\n",
              "            style=\"display:none;\">\n",
              "\n",
              "  <svg xmlns=\"http://www.w3.org/2000/svg\" height=\"24px\" viewBox=\"0 -960 960 960\">\n",
              "    <path d=\"M120-120v-720h720v720H120Zm60-500h600v-160H180v160Zm220 220h160v-160H400v160Zm0 220h160v-160H400v160ZM180-400h160v-160H180v160Zm440 0h160v-160H620v160ZM180-180h160v-160H180v160Zm440 0h160v-160H620v160Z\"/>\n",
              "  </svg>\n",
              "    </button>\n",
              "\n",
              "  <style>\n",
              "    .colab-df-container {\n",
              "      display:flex;\n",
              "      gap: 12px;\n",
              "    }\n",
              "\n",
              "    .colab-df-convert {\n",
              "      background-color: #E8F0FE;\n",
              "      border: none;\n",
              "      border-radius: 50%;\n",
              "      cursor: pointer;\n",
              "      display: none;\n",
              "      fill: #1967D2;\n",
              "      height: 32px;\n",
              "      padding: 0 0 0 0;\n",
              "      width: 32px;\n",
              "    }\n",
              "\n",
              "    .colab-df-convert:hover {\n",
              "      background-color: #E2EBFA;\n",
              "      box-shadow: 0px 1px 2px rgba(60, 64, 67, 0.3), 0px 1px 3px 1px rgba(60, 64, 67, 0.15);\n",
              "      fill: #174EA6;\n",
              "    }\n",
              "\n",
              "    .colab-df-buttons div {\n",
              "      margin-bottom: 4px;\n",
              "    }\n",
              "\n",
              "    [theme=dark] .colab-df-convert {\n",
              "      background-color: #3B4455;\n",
              "      fill: #D2E3FC;\n",
              "    }\n",
              "\n",
              "    [theme=dark] .colab-df-convert:hover {\n",
              "      background-color: #434B5C;\n",
              "      box-shadow: 0px 1px 3px 1px rgba(0, 0, 0, 0.15);\n",
              "      filter: drop-shadow(0px 1px 2px rgba(0, 0, 0, 0.3));\n",
              "      fill: #FFFFFF;\n",
              "    }\n",
              "  </style>\n",
              "\n",
              "    <script>\n",
              "      const buttonEl =\n",
              "        document.querySelector('#df-b575a105-07ba-4f69-9b48-8afddec1b842 button.colab-df-convert');\n",
              "      buttonEl.style.display =\n",
              "        google.colab.kernel.accessAllowed ? 'block' : 'none';\n",
              "\n",
              "      async function convertToInteractive(key) {\n",
              "        const element = document.querySelector('#df-b575a105-07ba-4f69-9b48-8afddec1b842');\n",
              "        const dataTable =\n",
              "          await google.colab.kernel.invokeFunction('convertToInteractive',\n",
              "                                                    [key], {});\n",
              "        if (!dataTable) return;\n",
              "\n",
              "        const docLinkHtml = 'Like what you see? Visit the ' +\n",
              "          '<a target=\"_blank\" href=https://colab.research.google.com/notebooks/data_table.ipynb>data table notebook</a>'\n",
              "          + ' to learn more about interactive tables.';\n",
              "        element.innerHTML = '';\n",
              "        dataTable['output_type'] = 'display_data';\n",
              "        await google.colab.output.renderOutput(dataTable, element);\n",
              "        const docLink = document.createElement('div');\n",
              "        docLink.innerHTML = docLinkHtml;\n",
              "        element.appendChild(docLink);\n",
              "      }\n",
              "    </script>\n",
              "  </div>\n",
              "\n",
              "\n",
              "<div id=\"df-037e0e4c-9aa6-4cb9-8422-a65fcf5362e7\">\n",
              "  <button class=\"colab-df-quickchart\" onclick=\"quickchart('df-037e0e4c-9aa6-4cb9-8422-a65fcf5362e7')\"\n",
              "            title=\"Suggest charts\"\n",
              "            style=\"display:none;\">\n",
              "\n",
              "<svg xmlns=\"http://www.w3.org/2000/svg\" height=\"24px\"viewBox=\"0 0 24 24\"\n",
              "     width=\"24px\">\n",
              "    <g>\n",
              "        <path d=\"M19 3H5c-1.1 0-2 .9-2 2v14c0 1.1.9 2 2 2h14c1.1 0 2-.9 2-2V5c0-1.1-.9-2-2-2zM9 17H7v-7h2v7zm4 0h-2V7h2v10zm4 0h-2v-4h2v4z\"/>\n",
              "    </g>\n",
              "</svg>\n",
              "  </button>\n",
              "\n",
              "<style>\n",
              "  .colab-df-quickchart {\n",
              "      --bg-color: #E8F0FE;\n",
              "      --fill-color: #1967D2;\n",
              "      --hover-bg-color: #E2EBFA;\n",
              "      --hover-fill-color: #174EA6;\n",
              "      --disabled-fill-color: #AAA;\n",
              "      --disabled-bg-color: #DDD;\n",
              "  }\n",
              "\n",
              "  [theme=dark] .colab-df-quickchart {\n",
              "      --bg-color: #3B4455;\n",
              "      --fill-color: #D2E3FC;\n",
              "      --hover-bg-color: #434B5C;\n",
              "      --hover-fill-color: #FFFFFF;\n",
              "      --disabled-bg-color: #3B4455;\n",
              "      --disabled-fill-color: #666;\n",
              "  }\n",
              "\n",
              "  .colab-df-quickchart {\n",
              "    background-color: var(--bg-color);\n",
              "    border: none;\n",
              "    border-radius: 50%;\n",
              "    cursor: pointer;\n",
              "    display: none;\n",
              "    fill: var(--fill-color);\n",
              "    height: 32px;\n",
              "    padding: 0;\n",
              "    width: 32px;\n",
              "  }\n",
              "\n",
              "  .colab-df-quickchart:hover {\n",
              "    background-color: var(--hover-bg-color);\n",
              "    box-shadow: 0 1px 2px rgba(60, 64, 67, 0.3), 0 1px 3px 1px rgba(60, 64, 67, 0.15);\n",
              "    fill: var(--button-hover-fill-color);\n",
              "  }\n",
              "\n",
              "  .colab-df-quickchart-complete:disabled,\n",
              "  .colab-df-quickchart-complete:disabled:hover {\n",
              "    background-color: var(--disabled-bg-color);\n",
              "    fill: var(--disabled-fill-color);\n",
              "    box-shadow: none;\n",
              "  }\n",
              "\n",
              "  .colab-df-spinner {\n",
              "    border: 2px solid var(--fill-color);\n",
              "    border-color: transparent;\n",
              "    border-bottom-color: var(--fill-color);\n",
              "    animation:\n",
              "      spin 1s steps(1) infinite;\n",
              "  }\n",
              "\n",
              "  @keyframes spin {\n",
              "    0% {\n",
              "      border-color: transparent;\n",
              "      border-bottom-color: var(--fill-color);\n",
              "      border-left-color: var(--fill-color);\n",
              "    }\n",
              "    20% {\n",
              "      border-color: transparent;\n",
              "      border-left-color: var(--fill-color);\n",
              "      border-top-color: var(--fill-color);\n",
              "    }\n",
              "    30% {\n",
              "      border-color: transparent;\n",
              "      border-left-color: var(--fill-color);\n",
              "      border-top-color: var(--fill-color);\n",
              "      border-right-color: var(--fill-color);\n",
              "    }\n",
              "    40% {\n",
              "      border-color: transparent;\n",
              "      border-right-color: var(--fill-color);\n",
              "      border-top-color: var(--fill-color);\n",
              "    }\n",
              "    60% {\n",
              "      border-color: transparent;\n",
              "      border-right-color: var(--fill-color);\n",
              "    }\n",
              "    80% {\n",
              "      border-color: transparent;\n",
              "      border-right-color: var(--fill-color);\n",
              "      border-bottom-color: var(--fill-color);\n",
              "    }\n",
              "    90% {\n",
              "      border-color: transparent;\n",
              "      border-bottom-color: var(--fill-color);\n",
              "    }\n",
              "  }\n",
              "</style>\n",
              "\n",
              "  <script>\n",
              "    async function quickchart(key) {\n",
              "      const quickchartButtonEl =\n",
              "        document.querySelector('#' + key + ' button');\n",
              "      quickchartButtonEl.disabled = true;  // To prevent multiple clicks.\n",
              "      quickchartButtonEl.classList.add('colab-df-spinner');\n",
              "      try {\n",
              "        const charts = await google.colab.kernel.invokeFunction(\n",
              "            'suggestCharts', [key], {});\n",
              "      } catch (error) {\n",
              "        console.error('Error during call to suggestCharts:', error);\n",
              "      }\n",
              "      quickchartButtonEl.classList.remove('colab-df-spinner');\n",
              "      quickchartButtonEl.classList.add('colab-df-quickchart-complete');\n",
              "    }\n",
              "    (() => {\n",
              "      let quickchartButtonEl =\n",
              "        document.querySelector('#df-037e0e4c-9aa6-4cb9-8422-a65fcf5362e7 button');\n",
              "      quickchartButtonEl.style.display =\n",
              "        google.colab.kernel.accessAllowed ? 'block' : 'none';\n",
              "    })();\n",
              "  </script>\n",
              "</div>\n",
              "\n",
              "    </div>\n",
              "  </div>\n"
            ],
            "application/vnd.google.colaboratory.intrinsic+json": {
              "type": "dataframe",
              "variable_name": "df",
              "summary": "{\n  \"name\": \"df\",\n  \"rows\": 15161,\n  \"fields\": [\n    {\n      \"column\": \"url\",\n      \"properties\": {\n        \"dtype\": \"string\",\n        \"num_unique_values\": 15092,\n        \"samples\": [\n          \"http://9779.info/%E7%AE%80%E5%8D%95%E6%8A%98%E7%BA%B8%E7%B2%98%E8%B4%B4%E7%94%BB/\",\n          \"covingtonvending.com\",\n          \"jordans.co.uk/CompanyIndex/c/cr/cra/OC353136/craig_mcmillan_tweedley_llp.html\"\n        ],\n        \"semantic_type\": \"\",\n        \"description\": \"\"\n      }\n    },\n    {\n      \"column\": \"type\",\n      \"properties\": {\n        \"dtype\": \"category\",\n        \"num_unique_values\": 2,\n        \"samples\": [\n          \"benign\",\n          \"malicious\"\n        ],\n        \"semantic_type\": \"\",\n        \"description\": \"\"\n      }\n    }\n  ]\n}"
            }
          },
          "metadata": {},
          "execution_count": 39
        }
      ]
    },
    {
      "cell_type": "code",
      "execution_count": null,
      "metadata": {
        "id": "jSjmqQi5UvjU"
      },
      "outputs": [],
      "source": [
        "# Assuming your CSV has columns 'url' and 'type'\n",
        "urls = df['url'].tolist()\n",
        "labels = df['type'].tolist()"
      ]
    },
    {
      "cell_type": "code",
      "execution_count": null,
      "metadata": {
        "id": "PrUFC5jDU_tY"
      },
      "outputs": [],
      "source": [
        "# Convert labels to numerical format\n",
        "label_encoder = LabelEncoder()\n",
        "encoded_labels = label_encoder.fit_transform(labels)"
      ]
    },
    {
      "cell_type": "code",
      "execution_count": null,
      "metadata": {
        "id": "XdNIVUpbVDxW"
      },
      "outputs": [],
      "source": [
        "# Tokenization and padding\n",
        "max_sequence_length = 100  # You can adjust this based on your data\n",
        "tokenizer = Tokenizer()\n",
        "tokenizer.fit_on_texts(urls)\n",
        "sequences = tokenizer.texts_to_sequences(urls)\n",
        "padded_sequences = pad_sequences(sequences, maxlen=max_sequence_length)"
      ]
    },
    {
      "cell_type": "code",
      "execution_count": null,
      "metadata": {
        "id": "JZWutpTjVPCD"
      },
      "outputs": [],
      "source": [
        "# Split data into training and testing sets\n",
        "X_train, X_test, y_train, y_test = train_test_split(padded_sequences, encoded_labels, test_size=0.2, random_state=42)"
      ]
    },
    {
      "cell_type": "code",
      "source": [
        "y_test"
      ],
      "metadata": {
        "colab": {
          "base_uri": "https://localhost:8080/"
        },
        "id": "rm8gjJcUyira",
        "outputId": "b32bf989-e00e-43ca-9474-f6fb2a1a9179"
      },
      "execution_count": null,
      "outputs": [
        {
          "output_type": "stream",
          "name": "stdout",
          "text": [
            "[0 0 0 ... 0 0 0]\n"
          ]
        }
      ]
    },
    {
      "cell_type": "code",
      "execution_count": null,
      "metadata": {
        "id": "DtN5qc_lVSY5"
      },
      "outputs": [],
      "source": [
        "# Model definition\n",
        "model = Sequential()"
      ]
    },
    {
      "cell_type": "code",
      "execution_count": null,
      "metadata": {
        "id": "EGGljanIVWOc"
      },
      "outputs": [],
      "source": [
        "# Embedding layer\n",
        "model.add(Embedding(input_dim=len(tokenizer.word_index) + 1, output_dim=50, input_length=max_sequence_length))"
      ]
    },
    {
      "cell_type": "code",
      "execution_count": null,
      "metadata": {
        "id": "2bkENyyqVbTr"
      },
      "outputs": [],
      "source": [
        "# CNN layer\n",
        "model.add(Conv1D(64, 3, activation='relu'))\n",
        "model.add(MaxPooling1D(2))\n"
      ]
    },
    {
      "cell_type": "code",
      "execution_count": null,
      "metadata": {
        "id": "x-LgPHh-Vg95"
      },
      "outputs": [],
      "source": [
        "# TCN layer\n",
        "model.add(TCN(nb_filters=64, kernel_size=3, dilations=[1, 2, 4, 8, 16]))\n"
      ]
    },
    {
      "cell_type": "code",
      "execution_count": null,
      "metadata": {
        "id": "AWmhnC2gVkVx"
      },
      "outputs": [],
      "source": [
        "# LSTM layer\n",
        "vocab_size = len(tokenizer.word_index) + 1  # Add 1 for the reserved 0 index\n",
        "\n",
        "from keras.layers import Embedding\n",
        "\n",
        "vocab_size = len(tokenizer.word_index) + 1  # Add 1 for the reserved 0 index\n",
        "embedding_dim = 64  # Adjust as needed\n",
        "\n",
        "model.add(Embedding(input_dim=vocab_size, output_dim=embedding_dim, input_length=max_sequence_length))\n",
        "model.add(LSTM(64))\n"
      ]
    },
    {
      "cell_type": "code",
      "execution_count": null,
      "metadata": {
        "id": "9sGA7oOZV1dn"
      },
      "outputs": [],
      "source": [
        "# Dense layers\n",
        "model.add(Dense(64, activation='relu'))\n",
        "model.add(Dense(1, activation='sigmoid'))  # Binary classification"
      ]
    },
    {
      "cell_type": "code",
      "execution_count": null,
      "metadata": {
        "id": "2yGPCbywV6W5"
      },
      "outputs": [],
      "source": [
        "# Compile the model\n",
        "model.compile(optimizer='adam', loss='binary_crossentropy', metrics=['accuracy'])"
      ]
    },
    {
      "cell_type": "code",
      "execution_count": null,
      "metadata": {
        "colab": {
          "base_uri": "https://localhost:8080/"
        },
        "id": "JMjqATLiV-pp",
        "outputId": "aae465f4-2a3e-47a0-8970-b4f01bd57b46"
      },
      "outputs": [
        {
          "output_type": "stream",
          "name": "stdout",
          "text": [
            "Epoch 1/5\n"
          ]
        },
        {
          "output_type": "stream",
          "name": "stderr",
          "text": [
            "WARNING:tensorflow:Gradients do not exist for variables ['embedding/embeddings:0', 'conv1d/kernel:0', 'conv1d/bias:0', 'tcn/residual_block_0/conv1D_0/kernel:0', 'tcn/residual_block_0/conv1D_0/bias:0', 'tcn/residual_block_0/conv1D_1/kernel:0', 'tcn/residual_block_0/conv1D_1/bias:0', 'tcn/residual_block_1/conv1D_0/kernel:0', 'tcn/residual_block_1/conv1D_0/bias:0', 'tcn/residual_block_1/conv1D_1/kernel:0', 'tcn/residual_block_1/conv1D_1/bias:0', 'tcn/residual_block_2/conv1D_0/kernel:0', 'tcn/residual_block_2/conv1D_0/bias:0', 'tcn/residual_block_2/conv1D_1/kernel:0', 'tcn/residual_block_2/conv1D_1/bias:0', 'tcn/residual_block_3/conv1D_0/kernel:0', 'tcn/residual_block_3/conv1D_0/bias:0', 'tcn/residual_block_3/conv1D_1/kernel:0', 'tcn/residual_block_3/conv1D_1/bias:0', 'tcn/residual_block_4/conv1D_0/kernel:0', 'tcn/residual_block_4/conv1D_0/bias:0', 'tcn/residual_block_4/conv1D_1/kernel:0', 'tcn/residual_block_4/conv1D_1/bias:0'] when minimizing the loss. If you're using `model.compile()`, did you forget to provide a `loss` argument?\n",
            "WARNING:tensorflow:Gradients do not exist for variables ['embedding/embeddings:0', 'conv1d/kernel:0', 'conv1d/bias:0', 'tcn/residual_block_0/conv1D_0/kernel:0', 'tcn/residual_block_0/conv1D_0/bias:0', 'tcn/residual_block_0/conv1D_1/kernel:0', 'tcn/residual_block_0/conv1D_1/bias:0', 'tcn/residual_block_1/conv1D_0/kernel:0', 'tcn/residual_block_1/conv1D_0/bias:0', 'tcn/residual_block_1/conv1D_1/kernel:0', 'tcn/residual_block_1/conv1D_1/bias:0', 'tcn/residual_block_2/conv1D_0/kernel:0', 'tcn/residual_block_2/conv1D_0/bias:0', 'tcn/residual_block_2/conv1D_1/kernel:0', 'tcn/residual_block_2/conv1D_1/bias:0', 'tcn/residual_block_3/conv1D_0/kernel:0', 'tcn/residual_block_3/conv1D_0/bias:0', 'tcn/residual_block_3/conv1D_1/kernel:0', 'tcn/residual_block_3/conv1D_1/bias:0', 'tcn/residual_block_4/conv1D_0/kernel:0', 'tcn/residual_block_4/conv1D_0/bias:0', 'tcn/residual_block_4/conv1D_1/kernel:0', 'tcn/residual_block_4/conv1D_1/bias:0'] when minimizing the loss. If you're using `model.compile()`, did you forget to provide a `loss` argument?\n",
            "WARNING:tensorflow:Gradients do not exist for variables ['embedding/embeddings:0', 'conv1d/kernel:0', 'conv1d/bias:0', 'tcn/residual_block_0/conv1D_0/kernel:0', 'tcn/residual_block_0/conv1D_0/bias:0', 'tcn/residual_block_0/conv1D_1/kernel:0', 'tcn/residual_block_0/conv1D_1/bias:0', 'tcn/residual_block_1/conv1D_0/kernel:0', 'tcn/residual_block_1/conv1D_0/bias:0', 'tcn/residual_block_1/conv1D_1/kernel:0', 'tcn/residual_block_1/conv1D_1/bias:0', 'tcn/residual_block_2/conv1D_0/kernel:0', 'tcn/residual_block_2/conv1D_0/bias:0', 'tcn/residual_block_2/conv1D_1/kernel:0', 'tcn/residual_block_2/conv1D_1/bias:0', 'tcn/residual_block_3/conv1D_0/kernel:0', 'tcn/residual_block_3/conv1D_0/bias:0', 'tcn/residual_block_3/conv1D_1/kernel:0', 'tcn/residual_block_3/conv1D_1/bias:0', 'tcn/residual_block_4/conv1D_0/kernel:0', 'tcn/residual_block_4/conv1D_0/bias:0', 'tcn/residual_block_4/conv1D_1/kernel:0', 'tcn/residual_block_4/conv1D_1/bias:0'] when minimizing the loss. If you're using `model.compile()`, did you forget to provide a `loss` argument?\n",
            "WARNING:tensorflow:Gradients do not exist for variables ['embedding/embeddings:0', 'conv1d/kernel:0', 'conv1d/bias:0', 'tcn/residual_block_0/conv1D_0/kernel:0', 'tcn/residual_block_0/conv1D_0/bias:0', 'tcn/residual_block_0/conv1D_1/kernel:0', 'tcn/residual_block_0/conv1D_1/bias:0', 'tcn/residual_block_1/conv1D_0/kernel:0', 'tcn/residual_block_1/conv1D_0/bias:0', 'tcn/residual_block_1/conv1D_1/kernel:0', 'tcn/residual_block_1/conv1D_1/bias:0', 'tcn/residual_block_2/conv1D_0/kernel:0', 'tcn/residual_block_2/conv1D_0/bias:0', 'tcn/residual_block_2/conv1D_1/kernel:0', 'tcn/residual_block_2/conv1D_1/bias:0', 'tcn/residual_block_3/conv1D_0/kernel:0', 'tcn/residual_block_3/conv1D_0/bias:0', 'tcn/residual_block_3/conv1D_1/kernel:0', 'tcn/residual_block_3/conv1D_1/bias:0', 'tcn/residual_block_4/conv1D_0/kernel:0', 'tcn/residual_block_4/conv1D_0/bias:0', 'tcn/residual_block_4/conv1D_1/kernel:0', 'tcn/residual_block_4/conv1D_1/bias:0'] when minimizing the loss. If you're using `model.compile()`, did you forget to provide a `loss` argument?\n"
          ]
        },
        {
          "output_type": "stream",
          "name": "stdout",
          "text": [
            "379/379 [==============================] - 15s 14ms/step - loss: 0.5854 - accuracy: 0.7300 - val_loss: 0.5708 - val_accuracy: 0.7428\n",
            "Epoch 2/5\n",
            "379/379 [==============================] - 3s 8ms/step - loss: 0.5835 - accuracy: 0.7308 - val_loss: 0.5708 - val_accuracy: 0.7428\n",
            "Epoch 3/5\n",
            "379/379 [==============================] - 4s 10ms/step - loss: 0.5835 - accuracy: 0.7308 - val_loss: 0.5712 - val_accuracy: 0.7428\n",
            "Epoch 4/5\n",
            "379/379 [==============================] - 3s 8ms/step - loss: 0.5840 - accuracy: 0.7308 - val_loss: 0.5748 - val_accuracy: 0.7428\n",
            "Epoch 5/5\n",
            "379/379 [==============================] - 3s 9ms/step - loss: 0.5839 - accuracy: 0.7308 - val_loss: 0.5706 - val_accuracy: 0.7428\n"
          ]
        },
        {
          "output_type": "execute_result",
          "data": {
            "text/plain": [
              "<keras.src.callbacks.History at 0x7e45e0500340>"
            ]
          },
          "metadata": {},
          "execution_count": 21
        }
      ],
      "source": [
        "# Train the model\n",
        "model.fit(X_train, y_train, epochs=5, batch_size=32, validation_data=(X_test, y_test))"
      ]
    },
    {
      "cell_type": "code",
      "source": [
        "# Evaluate the model\n",
        "y_pred = model.predict(X_test)\n",
        "\n"
      ],
      "metadata": {
        "colab": {
          "base_uri": "https://localhost:8080/"
        },
        "id": "tUiyVSyJx00o",
        "outputId": "24b5a0ca-4d75-4294-81dd-5495d1664407"
      },
      "execution_count": null,
      "outputs": [
        {
          "output_type": "stream",
          "name": "stdout",
          "text": [
            "95/95 [==============================] - 1s 6ms/step\n"
          ]
        }
      ]
    },
    {
      "cell_type": "code",
      "source": [
        "y_pred"
      ],
      "metadata": {
        "colab": {
          "base_uri": "https://localhost:8080/"
        },
        "id": "vCxnS8Xvyn12",
        "outputId": "9b3ea50a-9520-4098-c666-343f04c46442"
      },
      "execution_count": null,
      "outputs": [
        {
          "output_type": "execute_result",
          "data": {
            "text/plain": [
              "array([[0.26550078],\n",
              "       [0.26550078],\n",
              "       [0.26550078],\n",
              "       ...,\n",
              "       [0.26550078],\n",
              "       [0.26550078],\n",
              "       [0.26550078]], dtype=float32)"
            ]
          },
          "metadata": {},
          "execution_count": 27
        }
      ]
    },
    {
      "source": [
        "print(y_test.shape)\n",
        "print(y_pred.shape)"
      ],
      "cell_type": "code",
      "metadata": {
        "colab": {
          "base_uri": "https://localhost:8080/"
        },
        "id": "rjpAj_WMy6TW",
        "outputId": "6e39f496-d75c-4eb5-e42d-5365a93f454a"
      },
      "execution_count": null,
      "outputs": [
        {
          "output_type": "stream",
          "name": "stdout",
          "text": [
            "(3033,)\n",
            "(3033, 1)\n"
          ]
        }
      ]
    },
    {
      "cell_type": "code",
      "source": [
        "import numpy as np"
      ],
      "metadata": {
        "id": "hgIlFc2_zEYA"
      },
      "execution_count": null,
      "outputs": []
    },
    {
      "source": [
        "y_pred_labels = np.argmax(y_pred, axis=1)\n",
        "accuracy = accuracy_score(y_test, y_pred_labels)"
      ],
      "cell_type": "code",
      "metadata": {
        "id": "RI2lrOhEzBrk"
      },
      "execution_count": null,
      "outputs": []
    },
    {
      "cell_type": "code",
      "source": [
        "accuracy"
      ],
      "metadata": {
        "colab": {
          "base_uri": "https://localhost:8080/"
        },
        "id": "GM6bi0zjyS7p",
        "outputId": "5cff6d8c-5497-476d-db23-8fc9afd7424c"
      },
      "execution_count": null,
      "outputs": [
        {
          "output_type": "execute_result",
          "data": {
            "text/plain": [
              "0.7428288822947576"
            ]
          },
          "metadata": {},
          "execution_count": 35
        }
      ]
    },
    {
      "cell_type": "code",
      "source": [
        "def predict_maliciousness(url):\n",
        "    sequence = tokenizer.texts_to_sequences([url])\n",
        "    padded_sequence = pad_sequences(sequence, maxlen=max_sequence_length)\n",
        "    prediction = model.predict(padded_sequence)\n",
        "    class_index = int(round(prediction[0][0]))\n",
        "    classes = ['Benign', 'Malicious']\n",
        "    return classes[class_index]"
      ],
      "metadata": {
        "id": "DOQZmE92zJfq"
      },
      "execution_count": null,
      "outputs": []
    },
    {
      "cell_type": "code",
      "source": [
        "user_url = \"br-icloud.com.br\"\n",
        "prediction = predict_maliciousness(user_url)\n",
        "print(f\"The URL {user_url} is predicted as: {prediction}\")"
      ],
      "metadata": {
        "colab": {
          "base_uri": "https://localhost:8080/"
        },
        "id": "0-DwlhFIzUcg",
        "outputId": "b229e36c-3fbd-414a-d06f-a48c29a9e9fb"
      },
      "execution_count": null,
      "outputs": [
        {
          "output_type": "stream",
          "name": "stdout",
          "text": [
            "1/1 [==============================] - 0s 34ms/step\n",
            "The URL br-icloud.com.br is predicted as: Benign\n"
          ]
        }
      ]
    },
    {
      "cell_type": "code",
      "source": [],
      "metadata": {
        "id": "HiwNqMqOzYW-"
      },
      "execution_count": null,
      "outputs": []
    }
  ],
  "metadata": {
    "accelerator": "GPU",
    "colab": {
      "gpuType": "T4",
      "provenance": [],
      "include_colab_link": true
    },
    "kernelspec": {
      "display_name": "Python 3",
      "name": "python3"
    },
    "language_info": {
      "name": "python"
    }
  },
  "nbformat": 4,
  "nbformat_minor": 0
}