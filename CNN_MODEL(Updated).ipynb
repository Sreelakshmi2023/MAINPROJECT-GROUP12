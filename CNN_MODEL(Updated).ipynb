{
  "cells": [
    {
      "cell_type": "markdown",
      "metadata": {
        "id": "view-in-github",
        "colab_type": "text"
      },
      "source": [
        "<a href=\"https://colab.research.google.com/github/Sreelakshmi2023/MAINPROJECT-GROUP12/blob/main/CNN_MODEL(Updated).ipynb\" target=\"_parent\"><img src=\"https://colab.research.google.com/assets/colab-badge.svg\" alt=\"Open In Colab\"/></a>"
      ]
    },
    {
      "cell_type": "markdown",
      "metadata": {
        "id": "0sDnHDQJ8W2e"
      },
      "source": [
        "**IMPORT THE DEPENDENCIES**"
      ]
    },
    {
      "cell_type": "code",
      "execution_count": 1,
      "metadata": {
        "id": "UwB00SnxmRBr"
      },
      "outputs": [],
      "source": [
        "# Import necessary libraries\n",
        "import numpy as np\n",
        "import pandas as pd\n",
        "from sklearn.model_selection import train_test_split\n",
        "from sklearn.preprocessing import LabelEncoder\n",
        "from keras.preprocessing.text import Tokenizer\n",
        "from keras.preprocessing.sequence import pad_sequences\n",
        "from keras.models import Sequential\n",
        "from keras.layers import Embedding, Conv1D, GlobalMaxPooling1D, Dense, Dropout\n",
        "from keras.callbacks import EarlyStopping\n",
        "from tensorflow.keras.utils import plot_model"
      ]
    },
    {
      "cell_type": "markdown",
      "metadata": {
        "id": "WoiFYCCZ8b0y"
      },
      "source": [
        "**Load the dataset**"
      ]
    },
    {
      "cell_type": "code",
      "execution_count": 3,
      "metadata": {
        "id": "AksWLD2tmb60"
      },
      "outputs": [],
      "source": [
        "# Load the dataset\n",
        "data = pd.read_csv(\"/content/malicious_phish (1).csv\")"
      ]
    },
    {
      "cell_type": "markdown",
      "metadata": {
        "id": "VPr0c5jP8j9U"
      },
      "source": [
        "**Preprocessing the data**"
      ]
    },
    {
      "cell_type": "code",
      "execution_count": 4,
      "metadata": {
        "id": "oMGmJ88Kn4qo"
      },
      "outputs": [],
      "source": [
        "# Determine the maximum length of URLs\n",
        "max_len = max(len(url) for url in data['url'])\n",
        "\n",
        "# Preprocessing the data\n",
        "tokenizer = Tokenizer()\n",
        "tokenizer.fit_on_texts(data['url'])\n",
        "X = tokenizer.texts_to_sequences(data['url'])\n",
        "X = pad_sequences(X, maxlen=max_len)"
      ]
    },
    {
      "cell_type": "markdown",
      "metadata": {
        "id": "enGCiave8xBE"
      },
      "source": [
        "**encoding the label**"
      ]
    },
    {
      "cell_type": "code",
      "execution_count": 5,
      "metadata": {
        "id": "3Ef3uN5in_wf"
      },
      "outputs": [],
      "source": [
        "# Encoding the labels\n",
        "label_encoder = LabelEncoder()\n",
        "y = label_encoder.fit_transform(data['type'])"
      ]
    },
    {
      "cell_type": "code",
      "execution_count": 6,
      "metadata": {
        "colab": {
          "base_uri": "https://localhost:8080/"
        },
        "id": "vAtntLy8ekkw",
        "outputId": "064c1f75-8cab-4833-be7a-7d7af7a6d49f"
      },
      "outputs": [
        {
          "output_type": "stream",
          "name": "stdout",
          "text": [
            "benign        88439\n",
            "defacement    22221\n",
            "phishing       7236\n",
            "malware        2906\n",
            "Name: type, dtype: int64\n"
          ]
        }
      ],
      "source": [
        "print(data['type'].value_counts())"
      ]
    },
    {
      "cell_type": "markdown",
      "metadata": {
        "id": "bRb0_R1b80_a"
      },
      "source": [
        "**Splitting the dataset to training and testing data**"
      ]
    },
    {
      "cell_type": "code",
      "execution_count": 7,
      "metadata": {
        "id": "nBPlw4RCqkcp"
      },
      "outputs": [],
      "source": [
        "# Splitting the data into training and testing sets\n",
        "X_train, X_test, y_train, y_test = train_test_split(X, y, test_size=0.2, random_state=42)\n"
      ]
    },
    {
      "cell_type": "markdown",
      "metadata": {
        "id": "kVVh9z_f898M"
      },
      "source": [
        "**Model Architecture**"
      ]
    },
    {
      "cell_type": "code",
      "execution_count": 8,
      "metadata": {
        "id": "3Uo0HZQhsVk4"
      },
      "outputs": [],
      "source": [
        "# Determine the vocabulary size\n",
        "vocab_size = len(tokenizer.word_index) + 1  # Adding 1 because of reserved 0 index\n",
        "\n",
        "# Define the embedding dimension\n",
        "embedding_dim = 100  # You can adjust this dimension according to your requirements\n",
        "\n",
        "\n",
        "\n",
        "# Define the CNN model\n",
        "model = Sequential()\n",
        "model.add(Embedding(input_dim=vocab_size, output_dim=embedding_dim, input_length=max_len))\n",
        "model.add(Conv1D(filters=128, kernel_size=5, activation='relu'))\n",
        "model.add(GlobalMaxPooling1D())\n",
        "model.add(Dense(64, activation='relu'))\n",
        "model.add(Dropout(0.5))\n",
        "model.add(Dense(4, activation='softmax')) # 4 output classes for the 4 labels\n"
      ]
    },
    {
      "cell_type": "markdown",
      "metadata": {
        "id": "flJwD1OX-nQc"
      },
      "source": [
        "**Compile the model**"
      ]
    },
    {
      "cell_type": "code",
      "execution_count": 9,
      "metadata": {
        "id": "MDWmTv4DtxZ7"
      },
      "outputs": [],
      "source": [
        "# Compile the model\n",
        "model.compile(optimizer='adam', loss='sparse_categorical_crossentropy', metrics=['accuracy'])\n",
        "\n"
      ]
    },
    {
      "cell_type": "markdown",
      "metadata": {
        "id": "cuhmEsZz-qzU"
      },
      "source": [
        "**model Architecture**"
      ]
    },
    {
      "cell_type": "code",
      "execution_count": 10,
      "metadata": {
        "colab": {
          "base_uri": "https://localhost:8080/",
          "height": 754
        },
        "id": "LjmQdhnd9Uf8",
        "outputId": "f69a43d9-575f-4cfe-8f59-ae325357285b"
      },
      "outputs": [
        {
          "output_type": "execute_result",
          "data": {
            "image/png": "[encoded data removed]",
            "text/plain": [
              "<IPython.core.display.Image object>"
            ]
          },
          "metadata": {},
          "execution_count": 10
        }
      ],
      "source": [
        "# Plot model architecture\n",
        "plot_model(model, to_file='model_architecture.png', show_shapes=True)"
      ]
    },
    {
      "cell_type": "markdown",
      "metadata": {
        "id": "RgcaIvWv-vw9"
      },
      "source": [
        "**Early stopping**"
      ]
    },
    {
      "cell_type": "code",
      "execution_count": 11,
      "metadata": {
        "id": "34DYkaySw4SZ"
      },
      "outputs": [],
      "source": [
        "# Define early stopping callback\n",
        "early_stopping = EarlyStopping(monitor='val_loss', patience=3)\n"
      ]
    },
    {
      "cell_type": "markdown",
      "metadata": {
        "id": "cPRl64qg-zLY"
      },
      "source": [
        "**Train the model**"
      ]
    },
    {
      "cell_type": "code",
      "execution_count": 12,
      "metadata": {
        "colab": {
          "base_uri": "https://localhost:8080/"
        },
        "id": "kVXloPMK1IxI",
        "outputId": "06bdd59c-ff3a-41cf-d552-ac2522896e77"
      },
      "outputs": [
        {
          "output_type": "stream",
          "name": "stdout",
          "text": [
            "Epoch 1/20\n",
            "605/605 [==============================] - 60s 91ms/step - loss: 0.1950 - accuracy: 0.9348 - val_loss: 0.0783 - val_accuracy: 0.9707\n",
            "Epoch 2/20\n",
            "605/605 [==============================] - 35s 58ms/step - loss: 0.0277 - accuracy: 0.9928 - val_loss: 0.0888 - val_accuracy: 0.9660\n",
            "Epoch 3/20\n",
            "605/605 [==============================] - 33s 55ms/step - loss: 0.0087 - accuracy: 0.9979 - val_loss: 0.1342 - val_accuracy: 0.9489\n",
            "Epoch 4/20\n",
            "605/605 [==============================] - 32s 54ms/step - loss: 0.0022 - accuracy: 0.9995 - val_loss: 0.1182 - val_accuracy: 0.9582\n"
          ]
        },
        {
          "output_type": "execute_result",
          "data": {
            "text/plain": [
              "<keras.src.callbacks.History at 0x7b62e6d70b20>"
            ]
          },
          "metadata": {},
          "execution_count": 12
        }
      ],
      "source": [
        "# Train the model\n",
        "model.fit(X_train, y_train, batch_size=128, epochs=20, validation_split=0.2, callbacks=[early_stopping])\n"
      ]
    },
    {
      "cell_type": "markdown",
      "metadata": {
        "id": "7JqqshEu-1gr"
      },
      "source": [
        "**Evaluate the model**"
      ]
    },
    {
      "cell_type": "code",
      "execution_count": 13,
      "metadata": {
        "colab": {
          "base_uri": "https://localhost:8080/"
        },
        "id": "JOSLUuaQ16OP",
        "outputId": "ebab5b66-b996-4185-97bc-0e84937419af"
      },
      "outputs": [
        {
          "output_type": "stream",
          "name": "stdout",
          "text": [
            "756/756 [==============================] - 5s 6ms/step - loss: nan - accuracy: 0.9593\n",
            "Test Accuracy: 95.93\n"
          ]
        }
      ],
      "source": [
        "\n",
        "# Evaluate the model\n",
        "loss, accuracy = model.evaluate(X_test, y_test)\n",
        "rounded_accuracy = round(accuracy, 4)\n",
        "print(\"Test Accuracy:\", rounded_accuracy*100)\n"
      ]
    },
    {
      "cell_type": "markdown",
      "metadata": {
        "id": "YbovqfcM-30-"
      },
      "source": [
        "**code for input url type prediction**"
      ]
    },
    {
      "cell_type": "code",
      "execution_count": 14,
      "metadata": {
        "id": "Oef8XYF03VDN"
      },
      "outputs": [],
      "source": [
        "# Function to predict the type of URL\n",
        "def predict_url_type(url):\n",
        "    # Tokenize and pad the input URL\n",
        "    encoded_url = tokenizer.texts_to_sequences([url])\n",
        "    padded_url = pad_sequences(encoded_url, maxlen=max_len)\n",
        "    # Make predictions\n",
        "    prediction = model.predict(padded_url)\n",
        "    # Decode the prediction\n",
        "    label_index = np.argmax(prediction)\n",
        "    label = label_encoder.inverse_transform([label_index])[0]\n",
        "    return label"
      ]
    },
    {
      "cell_type": "markdown",
      "metadata": {
        "id": "dpue5rjy-8ST"
      },
      "source": [
        "**printing url type**"
      ]
    },
    {
      "cell_type": "code",
      "execution_count": 20,
      "metadata": {
        "colab": {
          "base_uri": "https://localhost:8080/"
        },
        "id": "Tt7oggGS5mf8",
        "outputId": "7960ec69-d838-4209-cad9-2a912c35621a"
      },
      "outputs": [
        {
          "output_type": "stream",
          "name": "stdout",
          "text": [
            "Enter a URL: http://www.hollingstedt.de/hollingstedt/geschichte/209-250-jahre-friedrichsfeld.html\n",
            "1/1 [==============================] - 0s 17ms/step\n",
            "Predicted URL Type: defacement\n"
          ]
        }
      ],
      "source": [
        "# Test the model with user input\n",
        "user_input = input(\"Enter a URL: \")\n",
        "prediction = predict_url_type(user_input)\n",
        "print(\"Predicted URL Type:\", prediction)\n"
      ]
    },
    {
      "cell_type": "code",
      "execution_count": null,
      "metadata": {
        "id": "h0YML5dx7Cxs"
      },
      "outputs": [],
      "source": []
    }
  ],
  "metadata": {
    "accelerator": "GPU",
    "colab": {
      "gpuType": "T4",
      "provenance": [],
      "authorship_tag": "ABX9TyO+KNq4nv449drcFDBYDIvl",
      "include_colab_link": true
    },
    "kernelspec": {
      "display_name": "Python 3",
      "name": "python3"
    },
    "language_info": {
      "name": "python"
    }
  },
  "nbformat": 4,
  "nbformat_minor": 0
}